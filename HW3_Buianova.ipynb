{
 "cells": [
  {
   "cell_type": "code",
   "execution_count": 3,
   "metadata": {
    "collapsed": false
   },
   "outputs": [],
   "source": [
    "# из тьюториала Лизы\n",
    "import re\n",
    "import numpy as np\n",
    "\n",
    "with open('anna.txt', encoding='utf-8') as f:\n",
    "    anna = f.read()\n",
    "with open('sonets.txt', encoding='utf-8') as f:\n",
    "    sonets = f.read()\n",
    "\n",
    "anna_sentences = re.split(r'(?:[.]\\s*){3}|[.?!]', anna)\n",
    "sonet_sentences = re.split(r'(?:[.]\\s*){3}|[.?!]', sonets)\n",
    "\n",
    "#print(None in anna_sentences)\n",
    "#print(len(anna_sentences), len(sonet_sentences))"
   ]
  },
  {
   "cell_type": "code",
   "execution_count": 74,
   "metadata": {
    "collapsed": false
   },
   "outputs": [],
   "source": [
    "# Первая часть первого пункта \n",
    "\n",
    "\n",
    "#Вариант 1.\n",
    "# находим длину предложения в буквах\n",
    "sentence_letters = re.compile('\\w')\n",
    "anna_len_sentence = []\n",
    "sonet_len_sentence = []\n",
    "\n",
    "# для корпуса Анны Карениной\n",
    "for sentence in anna_sentences:\n",
    "    anna_len_sentence.append(len(sentence_letters.findall(sentence)))\n",
    "    #print(anna_len_sentence)\n",
    "    \n",
    "# для корпуса сонет\n",
    "for sent in sonet_sentences:\n",
    "    sonet_len_sentence.append(len(sentence_letters.findall(sent)))\n",
    "    #print(sonet_len_sentence)\n",
    "    \n",
    "# число различных букв в предложении\n",
    "anna_number_letters = []\n",
    "sonet_number_letter = []\n",
    "\n",
    "for sente in anna_sentences:\n",
    "    anna_number_letters.append(len(set(sentence_letters.findall(sente))))\n",
    "    #print(anna_len_sentence)\n",
    "    \n",
    "# для корпуса сонет\n",
    "for se in sonet_sentences:\n",
    "    sonet_number_letter.append(len(set(sentence_letters.findall(se))))\n",
    "    #print(sonet_len_sentence)\n",
    "    \n",
    "\n",
    "# находим число гласных в предложении\n",
    "sentence_vowels = re.compile('а|о|у|э|ы|е|ё|я|ю|и')\n",
    "anna_len_vowels = []\n",
    "sonet_len_vowels = []\n",
    "\n",
    "# для корпуса Анны Карениной\n",
    "for sen in anna_sentences:\n",
    "    anna_len_vowels.append(len(sentence_vowels.findall(sen)))\n",
    "    #print(anna_len_vowels)\n",
    "\n",
    "# для корпуса сонет\n",
    "for s in sonet_sentences:\n",
    "    sonet_len_vowels.append(len(sentence_vowels.findall(s)))\n",
    "    #print(sonet_len_vowels)\n",
    "\n",
    "from statistics import median\n",
    "\n",
    "# находим медиану числа букв в предложении\n",
    "\n",
    "anna_mediana_letters = median(sorted(anna_len_sentence))\n",
    "sonet_mediana_letters = median(sorted(sonet_len_sentence))\n",
    "\n",
    "# находим медиану числа гласных в предложении\n",
    "\n",
    "anna_mediana_vowels = median(sorted(anna_len_vowels))\n",
    "sonet_mediana_vowels = median(sorted(sonet_len_vowels))\n"
   ]
  },
  {
   "cell_type": "code",
   "execution_count": 63,
   "metadata": {
    "collapsed": false
   },
   "outputs": [
    {
     "data": {
      "text/plain": [
       "44"
      ]
     },
     "execution_count": 63,
     "metadata": {},
     "output_type": "execute_result"
    }
   ],
   "source": [
    "anna_mediana_letters"
   ]
  },
  {
   "cell_type": "code",
   "execution_count": 75,
   "metadata": {
    "collapsed": false
   },
   "outputs": [],
   "source": [
    "data_anna = []\n",
    "data_sonet = []\n",
    "\n",
    "data_anna.append([anna_len_sentence, anna_number_letters, anna_len_vowels, anna_mediana_letters, anna_mediana_vowels])\n",
    "data_sonet.append([sonet_len_sentence, sonet_number_letter, sonet_len_vowels, sonet_mediana_letters, sonet_mediana_vowels])"
   ]
  },
  {
   "cell_type": "code",
   "execution_count": 52,
   "metadata": {
    "collapsed": false
   },
   "outputs": [],
   "source": [
    "# Вариант 2. Из тьюториала Лизы. Почему-то не работает.\n",
    "#def len_sentences(sentence):\n",
    "#    return [len(s) for s in sentence.split()]\n",
    "\n",
    "#    sentence_letters = re.compile('\\w')\n",
    "#    sentence_vowels = re.compile('а|о|у|э|ы|е|ё|я|ю|и')\n",
    "\n",
    "#    anna_sentlens = [sentence_letters(sentence) for sentence in anna_sentences if len(sentence_letters(sentence)) > 0]\n",
    "#    sonet_sentlens = [sentence_letters(sentence) for sentence in sonet_sentences if len(sentence_letters(sentence)) > 0]\n",
    "#    anna_data = [(len(sentence_letters(sentence)), len(sentence_vowels(sentence)), np.median(sentence_letters), np.median(sentence_vowels), sentence) \n",
    "#                 for sentence in anna_sentlens]\n",
    "\n",
    "#    sonet_data = [(len(sentence), np.mean(sentence), np.median(sentence), np.std(sentence), sentence) \n",
    "#                  for sentence in sonet_sentlens]"
   ]
  },
  {
   "cell_type": "code",
   "execution_count": 80,
   "metadata": {
    "collapsed": false
   },
   "outputs": [
    {
     "data": {
      "text/plain": [
       "<matplotlib.figure.Figure at 0x1187bc908>"
      ]
     },
     "metadata": {},
     "output_type": "display_data"
    },
    {
     "data": {
      "image/png": "[encoded data removed]",
      "text/plain": [
       "<matplotlib.figure.Figure at 0x118dd0898>"
      ]
     },
     "metadata": {},
     "output_type": "display_data"
    }
   ],
   "source": [
    "# Вторая часть первого пункта\n",
    "# Рисование графиков с matplotlib\n",
    "\n",
    "from matplotlib import pyplot as plt\n",
    "\n",
    "data_anna = np.array(data_anna)\n",
    "data_sonet = np.array(data_sonet)\n",
    "plt.figure()\n",
    "# не работает\n",
    "#plt.plot(anna_d[:, 0], anna_d[:, 3], 'o')\n",
    "#plt.plot(sonet_d[:,0], sonet_d[:,3], 'x')\n",
    "plt.plot(anna_d[:,2], anna_d[:,3], 'o')\n",
    "plt.plot(sonet_d[:,2], sonet_d[:,3], 'x')\n",
    "plt.show() # как-то не такой график я ожидала увидеть...\n"
   ]
  },
  {
   "cell_type": "code",
   "execution_count": null,
   "metadata": {
    "collapsed": true
   },
   "outputs": [],
   "source": []
  }
 ],
 "metadata": {
  "kernelspec": {
   "display_name": "Python 3",
   "language": "python",
   "name": "python3"
  },
  "language_info": {
   "codemirror_mode": {
    "name": "ipython",
    "version": 3
   },
   "file_extension": ".py",
   "mimetype": "text/x-python",
   "name": "python",
   "nbconvert_exporter": "python",
   "pygments_lexer": "ipython3",
   "version": "3.6.0"
  }
 },
 "nbformat": 4,
 "nbformat_minor": 2
}
